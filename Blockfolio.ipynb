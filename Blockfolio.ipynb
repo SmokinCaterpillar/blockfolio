{
 "cells": [
  {
   "cell_type": "markdown",
   "metadata": {},
   "source": [
    "# IPython Blockfolio\n",
    "\n",
    "This is a simple \"Blockfolio\" using Python and the [CoinMarketCap API](https://coinmarketcap.com/api/).\n",
    "\n",
    "It will show the net worth in USD of your Cryptocurrency investments as well as the relative share\n",
    "of coins you own in comparison to the total coin supply of the corresponding digital asset.\n",
    "\n",
    "First, the current exchanges rates are loaded, then combined with your investments, and finally displayed using Plotly.\n",
    "\n",
    "This notebook can be found on [my github profile](https://github.com/SmokinCaterpillar/blockfolio)."
   ]
  },
  {
   "cell_type": "markdown",
   "metadata": {},
   "source": [
    "Imports\n",
    "--------"
   ]
  },
  {
   "cell_type": "code",
   "execution_count": 34,
   "metadata": {
    "collapsed": false
   },
   "outputs": [
    {
     "data": {
      "text/html": [
       "<script>requirejs.config({paths: { 'plotly': ['https://cdn.plot.ly/plotly-latest.min']},});if(!window.Plotly) {{require(['plotly'],function(plotly) {window.Plotly=plotly;});}}</script>"
      ],
      "text/vnd.plotly.v1+html": [
       "<script>requirejs.config({paths: { 'plotly': ['https://cdn.plot.ly/plotly-latest.min']},});if(!window.Plotly) {{require(['plotly'],function(plotly) {window.Plotly=plotly;});}}</script>"
      ]
     },
     "metadata": {},
     "output_type": "display_data"
    }
   ],
   "source": [
    "import pandas as pd\n",
    "\n",
    "import plotly\n",
    "import plotly.offline as py\n",
    "import plotly.graph_objs as go\n",
    "py.init_notebook_mode(connected=True)"
   ]
  },
  {
   "cell_type": "markdown",
   "metadata": {},
   "source": [
    "## Loading Data from CoinMarkteCap"
   ]
  },
  {
   "cell_type": "code",
   "execution_count": 35,
   "metadata": {
    "collapsed": false
   },
   "outputs": [
    {
     "data": {
      "text/plain": [
       "'https://api.coinmarketcap.com/v1/ticker/?limit=200'"
      ]
     },
     "execution_count": 35,
     "metadata": {},
     "output_type": "execute_result"
    }
   ],
   "source": [
    "limit = 200  # only load the top 200 currencies, if you have invested in smaller ones increase this limit\n",
    "coin_market_cap_api = 'https://api.coinmarketcap.com/v1/ticker/?limit={}'.format(limit)\n",
    "coin_market_cap_api"
   ]
  },
  {
   "cell_type": "code",
   "execution_count": 36,
   "metadata": {
    "collapsed": false
   },
   "outputs": [
    {
     "data": {
      "text/html": [
       "<div>\n",
       "<table border=\"1\" class=\"dataframe\">\n",
       "  <thead>\n",
       "    <tr style=\"text-align: right;\">\n",
       "      <th></th>\n",
       "      <th>24h_volume_usd</th>\n",
       "      <th>available_supply</th>\n",
       "      <th>id</th>\n",
       "      <th>last_updated</th>\n",
       "      <th>market_cap_usd</th>\n",
       "      <th>max_supply</th>\n",
       "      <th>name</th>\n",
       "      <th>percent_change_1h</th>\n",
       "      <th>percent_change_24h</th>\n",
       "      <th>percent_change_7d</th>\n",
       "      <th>price_btc</th>\n",
       "      <th>price_usd</th>\n",
       "      <th>rank</th>\n",
       "      <th>symbol</th>\n",
       "      <th>total_supply</th>\n",
       "    </tr>\n",
       "  </thead>\n",
       "  <tbody>\n",
       "    <tr>\n",
       "      <th>0</th>\n",
       "      <td>5483020000</td>\n",
       "      <td>16946362</td>\n",
       "      <td>bitcoin</td>\n",
       "      <td>1522344268</td>\n",
       "      <td>127525610640</td>\n",
       "      <td>2.100000e+07</td>\n",
       "      <td>Bitcoin</td>\n",
       "      <td>-0.45</td>\n",
       "      <td>-5.19</td>\n",
       "      <td>-13.26</td>\n",
       "      <td>1.000000</td>\n",
       "      <td>7525.250000</td>\n",
       "      <td>1</td>\n",
       "      <td>BTC</td>\n",
       "      <td>16946362</td>\n",
       "    </tr>\n",
       "    <tr>\n",
       "      <th>1</th>\n",
       "      <td>1768970000</td>\n",
       "      <td>98491406</td>\n",
       "      <td>ethereum</td>\n",
       "      <td>1522344253</td>\n",
       "      <td>40879350517</td>\n",
       "      <td>NaN</td>\n",
       "      <td>Ethereum</td>\n",
       "      <td>0.10</td>\n",
       "      <td>-7.68</td>\n",
       "      <td>-22.41</td>\n",
       "      <td>0.055434</td>\n",
       "      <td>415.055000</td>\n",
       "      <td>2</td>\n",
       "      <td>ETH</td>\n",
       "      <td>98491406</td>\n",
       "    </tr>\n",
       "    <tr>\n",
       "      <th>2</th>\n",
       "      <td>371191000</td>\n",
       "      <td>39094227299</td>\n",
       "      <td>ripple</td>\n",
       "      <td>1522344241</td>\n",
       "      <td>21310341489</td>\n",
       "      <td>1.000000e+11</td>\n",
       "      <td>Ripple</td>\n",
       "      <td>-0.61</td>\n",
       "      <td>-5.42</td>\n",
       "      <td>-16.75</td>\n",
       "      <td>0.000073</td>\n",
       "      <td>0.545102</td>\n",
       "      <td>3</td>\n",
       "      <td>XRP</td>\n",
       "      <td>99992434971</td>\n",
       "    </tr>\n",
       "    <tr>\n",
       "      <th>3</th>\n",
       "      <td>405845000</td>\n",
       "      <td>17044388</td>\n",
       "      <td>bitcoin-cash</td>\n",
       "      <td>1522344252</td>\n",
       "      <td>12877137023</td>\n",
       "      <td>2.100000e+07</td>\n",
       "      <td>Bitcoin Cash</td>\n",
       "      <td>-0.96</td>\n",
       "      <td>-12.61</td>\n",
       "      <td>-24.97</td>\n",
       "      <td>0.100903</td>\n",
       "      <td>755.506000</td>\n",
       "      <td>4</td>\n",
       "      <td>BCH</td>\n",
       "      <td>17044388</td>\n",
       "    </tr>\n",
       "    <tr>\n",
       "      <th>4</th>\n",
       "      <td>393255000</td>\n",
       "      <td>55845045</td>\n",
       "      <td>litecoin</td>\n",
       "      <td>1522344241</td>\n",
       "      <td>6834875007</td>\n",
       "      <td>8.400000e+07</td>\n",
       "      <td>Litecoin</td>\n",
       "      <td>-0.64</td>\n",
       "      <td>-7.98</td>\n",
       "      <td>-25.26</td>\n",
       "      <td>0.016346</td>\n",
       "      <td>122.390000</td>\n",
       "      <td>5</td>\n",
       "      <td>LTC</td>\n",
       "      <td>55845045</td>\n",
       "    </tr>\n",
       "    <tr>\n",
       "      <th>5</th>\n",
       "      <td>543223000</td>\n",
       "      <td>758247977</td>\n",
       "      <td>eos</td>\n",
       "      <td>1522344253</td>\n",
       "      <td>4755048889</td>\n",
       "      <td>1.000000e+09</td>\n",
       "      <td>EOS</td>\n",
       "      <td>-0.78</td>\n",
       "      <td>-0.31</td>\n",
       "      <td>-7.86</td>\n",
       "      <td>0.000838</td>\n",
       "      <td>6.271100</td>\n",
       "      <td>6</td>\n",
       "      <td>EOS</td>\n",
       "      <td>900000000</td>\n",
       "    </tr>\n",
       "    <tr>\n",
       "      <th>6</th>\n",
       "      <td>89176200</td>\n",
       "      <td>25927070538</td>\n",
       "      <td>cardano</td>\n",
       "      <td>1522344256</td>\n",
       "      <td>4020225631</td>\n",
       "      <td>4.500000e+10</td>\n",
       "      <td>Cardano</td>\n",
       "      <td>-0.62</td>\n",
       "      <td>-2.81</td>\n",
       "      <td>-22.29</td>\n",
       "      <td>0.000021</td>\n",
       "      <td>0.155059</td>\n",
       "      <td>7</td>\n",
       "      <td>ADA</td>\n",
       "      <td>31112483745</td>\n",
       "    </tr>\n",
       "    <tr>\n",
       "      <th>7</th>\n",
       "      <td>40536400</td>\n",
       "      <td>18550593129</td>\n",
       "      <td>stellar</td>\n",
       "      <td>1522344243</td>\n",
       "      <td>3755344972</td>\n",
       "      <td>NaN</td>\n",
       "      <td>Stellar</td>\n",
       "      <td>-0.81</td>\n",
       "      <td>-7.32</td>\n",
       "      <td>-14.95</td>\n",
       "      <td>0.000027</td>\n",
       "      <td>0.202438</td>\n",
       "      <td>8</td>\n",
       "      <td>XLM</td>\n",
       "      <td>103807834721</td>\n",
       "    </tr>\n",
       "    <tr>\n",
       "      <th>8</th>\n",
       "      <td>88059600</td>\n",
       "      <td>65000000</td>\n",
       "      <td>neo</td>\n",
       "      <td>1522344248</td>\n",
       "      <td>3525333500</td>\n",
       "      <td>1.000000e+08</td>\n",
       "      <td>NEO</td>\n",
       "      <td>-0.31</td>\n",
       "      <td>-5.14</td>\n",
       "      <td>-21.78</td>\n",
       "      <td>0.007244</td>\n",
       "      <td>54.235900</td>\n",
       "      <td>9</td>\n",
       "      <td>NEO</td>\n",
       "      <td>100000000</td>\n",
       "    </tr>\n",
       "    <tr>\n",
       "      <th>9</th>\n",
       "      <td>485474000</td>\n",
       "      <td>65748192475</td>\n",
       "      <td>tron</td>\n",
       "      <td>1522344254</td>\n",
       "      <td>3224961991</td>\n",
       "      <td>NaN</td>\n",
       "      <td>TRON</td>\n",
       "      <td>-1.28</td>\n",
       "      <td>9.79</td>\n",
       "      <td>36.32</td>\n",
       "      <td>0.000007</td>\n",
       "      <td>0.049050</td>\n",
       "      <td>10</td>\n",
       "      <td>TRX</td>\n",
       "      <td>100000000000</td>\n",
       "    </tr>\n",
       "  </tbody>\n",
       "</table>\n",
       "</div>"
      ],
      "text/plain": [
       "   24h_volume_usd  available_supply            id  last_updated  \\\n",
       "0      5483020000          16946362       bitcoin    1522344268   \n",
       "1      1768970000          98491406      ethereum    1522344253   \n",
       "2       371191000       39094227299        ripple    1522344241   \n",
       "3       405845000          17044388  bitcoin-cash    1522344252   \n",
       "4       393255000          55845045      litecoin    1522344241   \n",
       "5       543223000         758247977           eos    1522344253   \n",
       "6        89176200       25927070538       cardano    1522344256   \n",
       "7        40536400       18550593129       stellar    1522344243   \n",
       "8        88059600          65000000           neo    1522344248   \n",
       "9       485474000       65748192475          tron    1522344254   \n",
       "\n",
       "   market_cap_usd    max_supply          name  percent_change_1h  \\\n",
       "0    127525610640  2.100000e+07       Bitcoin              -0.45   \n",
       "1     40879350517           NaN      Ethereum               0.10   \n",
       "2     21310341489  1.000000e+11        Ripple              -0.61   \n",
       "3     12877137023  2.100000e+07  Bitcoin Cash              -0.96   \n",
       "4      6834875007  8.400000e+07      Litecoin              -0.64   \n",
       "5      4755048889  1.000000e+09           EOS              -0.78   \n",
       "6      4020225631  4.500000e+10       Cardano              -0.62   \n",
       "7      3755344972           NaN       Stellar              -0.81   \n",
       "8      3525333500  1.000000e+08           NEO              -0.31   \n",
       "9      3224961991           NaN          TRON              -1.28   \n",
       "\n",
       "   percent_change_24h  percent_change_7d  price_btc    price_usd  rank symbol  \\\n",
       "0               -5.19             -13.26   1.000000  7525.250000     1    BTC   \n",
       "1               -7.68             -22.41   0.055434   415.055000     2    ETH   \n",
       "2               -5.42             -16.75   0.000073     0.545102     3    XRP   \n",
       "3              -12.61             -24.97   0.100903   755.506000     4    BCH   \n",
       "4               -7.98             -25.26   0.016346   122.390000     5    LTC   \n",
       "5               -0.31              -7.86   0.000838     6.271100     6    EOS   \n",
       "6               -2.81             -22.29   0.000021     0.155059     7    ADA   \n",
       "7               -7.32             -14.95   0.000027     0.202438     8    XLM   \n",
       "8               -5.14             -21.78   0.007244    54.235900     9    NEO   \n",
       "9                9.79              36.32   0.000007     0.049050    10    TRX   \n",
       "\n",
       "   total_supply  \n",
       "0      16946362  \n",
       "1      98491406  \n",
       "2   99992434971  \n",
       "3      17044388  \n",
       "4      55845045  \n",
       "5     900000000  \n",
       "6   31112483745  \n",
       "7  103807834721  \n",
       "8     100000000  \n",
       "9  100000000000  "
      ]
     },
     "execution_count": 36,
     "metadata": {},
     "output_type": "execute_result"
    }
   ],
   "source": [
    "# load the data using pandas and keep track of the time\n",
    "now = pd.datetime.now()\n",
    "market_data = pd.read_json(coin_market_cap_api)\n",
    "market_data.head(10)"
   ]
  },
  {
   "cell_type": "markdown",
   "metadata": {},
   "source": [
    "## Your Blockfolio\n",
    "\n",
    "Below you can fill in the types and amount of coins you have into the Python dictionary\n",
    "with the format `'SYMBOL': value`."
   ]
  },
  {
   "cell_type": "code",
   "execution_count": 37,
   "metadata": {
    "collapsed": true
   },
   "outputs": [],
   "source": [
    "# enter your coins below:\n",
    "\n",
    "block_folio = {\n",
    "    'BTC': 0.31337,\n",
    "    'BCH': 0.01337,\n",
    "    'ETH': 3,\n",
    "    'LTC': 1.5,\n",
    "    'MIOTA': 777,\n",
    "    'XRP': 13,\n",
    "    'DASH': 0.1, \n",
    "    'XMR': 1, \n",
    "    'LSK': 12, \n",
    "    'OMG': 1.1, \n",
    "    'XRB': 42, \n",
    "    'PIVX': 123, \n",
    "    'ARK': 22, \n",
    "    'NEO': 7, \n",
    "    'GAS': 0.01,\n",
    "    'STEEM': 499,\n",
    "}"
   ]
  },
  {
   "cell_type": "code",
   "execution_count": 38,
   "metadata": {
    "collapsed": false
   },
   "outputs": [],
   "source": [
    "# ----- OPTIONAL: uncomment for keeping track of multiple wallets ----- #\n",
    "\n",
    "# if you have some coins spread out over multiple wallets that might change value independently\n",
    "# you can enter individual balances here:\n",
    "\n",
    "#btc = { 'binance': 0.002, 'gdax': 0.05, 'cold_storage': 0.1}\n",
    "#eth = { 'binance': 0.05, 'bittrex': 1}\n",
    "\n",
    "# and then use the sum of your holdings for the coin's block_folio value:\n",
    "\n",
    "#block_folio['BTC'] = sum(btc.values())\n",
    "#block_folio['ETH'] = sum(eth.values())"
   ]
  },
  {
   "cell_type": "code",
   "execution_count": 39,
   "metadata": {
    "collapsed": false
   },
   "outputs": [
    {
     "data": {
      "text/html": [
       "<div>\n",
       "<table border=\"1\" class=\"dataframe\">\n",
       "  <thead>\n",
       "    <tr style=\"text-align: right;\">\n",
       "      <th></th>\n",
       "      <th>symbol</th>\n",
       "      <th>amount</th>\n",
       "    </tr>\n",
       "  </thead>\n",
       "  <tbody>\n",
       "    <tr>\n",
       "      <th>0</th>\n",
       "      <td>DASH</td>\n",
       "      <td>0.10000</td>\n",
       "    </tr>\n",
       "    <tr>\n",
       "      <th>1</th>\n",
       "      <td>BCH</td>\n",
       "      <td>0.01337</td>\n",
       "    </tr>\n",
       "    <tr>\n",
       "      <th>2</th>\n",
       "      <td>NEO</td>\n",
       "      <td>7.00000</td>\n",
       "    </tr>\n",
       "    <tr>\n",
       "      <th>3</th>\n",
       "      <td>PIVX</td>\n",
       "      <td>123.00000</td>\n",
       "    </tr>\n",
       "    <tr>\n",
       "      <th>4</th>\n",
       "      <td>GAS</td>\n",
       "      <td>0.01000</td>\n",
       "    </tr>\n",
       "    <tr>\n",
       "      <th>5</th>\n",
       "      <td>LSK</td>\n",
       "      <td>12.00000</td>\n",
       "    </tr>\n",
       "    <tr>\n",
       "      <th>6</th>\n",
       "      <td>XRB</td>\n",
       "      <td>42.00000</td>\n",
       "    </tr>\n",
       "    <tr>\n",
       "      <th>7</th>\n",
       "      <td>LTC</td>\n",
       "      <td>1.50000</td>\n",
       "    </tr>\n",
       "    <tr>\n",
       "      <th>8</th>\n",
       "      <td>MIOTA</td>\n",
       "      <td>777.00000</td>\n",
       "    </tr>\n",
       "    <tr>\n",
       "      <th>9</th>\n",
       "      <td>BTC</td>\n",
       "      <td>0.31337</td>\n",
       "    </tr>\n",
       "    <tr>\n",
       "      <th>10</th>\n",
       "      <td>OMG</td>\n",
       "      <td>1.10000</td>\n",
       "    </tr>\n",
       "    <tr>\n",
       "      <th>11</th>\n",
       "      <td>ETH</td>\n",
       "      <td>3.00000</td>\n",
       "    </tr>\n",
       "    <tr>\n",
       "      <th>12</th>\n",
       "      <td>ARK</td>\n",
       "      <td>22.00000</td>\n",
       "    </tr>\n",
       "    <tr>\n",
       "      <th>13</th>\n",
       "      <td>STEEM</td>\n",
       "      <td>499.00000</td>\n",
       "    </tr>\n",
       "    <tr>\n",
       "      <th>14</th>\n",
       "      <td>XRP</td>\n",
       "      <td>13.00000</td>\n",
       "    </tr>\n",
       "    <tr>\n",
       "      <th>15</th>\n",
       "      <td>XMR</td>\n",
       "      <td>1.00000</td>\n",
       "    </tr>\n",
       "  </tbody>\n",
       "</table>\n",
       "</div>"
      ],
      "text/plain": [
       "   symbol     amount\n",
       "0    DASH    0.10000\n",
       "1     BCH    0.01337\n",
       "2     NEO    7.00000\n",
       "3    PIVX  123.00000\n",
       "4     GAS    0.01000\n",
       "5     LSK   12.00000\n",
       "6     XRB   42.00000\n",
       "7     LTC    1.50000\n",
       "8   MIOTA  777.00000\n",
       "9     BTC    0.31337\n",
       "10    OMG    1.10000\n",
       "11    ETH    3.00000\n",
       "12    ARK   22.00000\n",
       "13  STEEM  499.00000\n",
       "14    XRP   13.00000\n",
       "15    XMR    1.00000"
      ]
     },
     "execution_count": 39,
     "metadata": {},
     "output_type": "execute_result"
    }
   ],
   "source": [
    "# display your blockfolio\n",
    "block_folio = pd.DataFrame(list(block_folio.items()), columns=['symbol', 'amount'])\n",
    "block_folio.head(len(block_folio))"
   ]
  },
  {
   "cell_type": "markdown",
   "metadata": {},
   "source": [
    "### Combining the Blockfolio and the API Data"
   ]
  },
  {
   "cell_type": "code",
   "execution_count": 40,
   "metadata": {
    "collapsed": false
   },
   "outputs": [
    {
     "data": {
      "text/html": [
       "<div>\n",
       "<table border=\"1\" class=\"dataframe\">\n",
       "  <thead>\n",
       "    <tr style=\"text-align: right;\">\n",
       "      <th></th>\n",
       "      <th>symbol</th>\n",
       "      <th>amount</th>\n",
       "      <th>24h_volume_usd</th>\n",
       "      <th>available_supply</th>\n",
       "      <th>id</th>\n",
       "      <th>last_updated</th>\n",
       "      <th>market_cap_usd</th>\n",
       "      <th>max_supply</th>\n",
       "      <th>name</th>\n",
       "      <th>percent_change_1h</th>\n",
       "      <th>percent_change_24h</th>\n",
       "      <th>percent_change_7d</th>\n",
       "      <th>price_btc</th>\n",
       "      <th>price_usd</th>\n",
       "      <th>rank</th>\n",
       "      <th>total_supply</th>\n",
       "      <th>value_usd</th>\n",
       "      <th>coinshare</th>\n",
       "    </tr>\n",
       "  </thead>\n",
       "  <tbody>\n",
       "    <tr>\n",
       "      <th>9</th>\n",
       "      <td>BTC</td>\n",
       "      <td>0.31337</td>\n",
       "      <td>5483020000</td>\n",
       "      <td>16946362</td>\n",
       "      <td>bitcoin</td>\n",
       "      <td>1522344268</td>\n",
       "      <td>1.275256e+11</td>\n",
       "      <td>21000000</td>\n",
       "      <td>Bitcoin</td>\n",
       "      <td>-0.45</td>\n",
       "      <td>-5.19</td>\n",
       "      <td>-13.26</td>\n",
       "      <td>1.000000</td>\n",
       "      <td>7525.25000</td>\n",
       "      <td>1</td>\n",
       "      <td>16946362</td>\n",
       "      <td>2358.187592</td>\n",
       "      <td>1.849187e-08</td>\n",
       "    </tr>\n",
       "    <tr>\n",
       "      <th>11</th>\n",
       "      <td>ETH</td>\n",
       "      <td>3.00000</td>\n",
       "      <td>1768970000</td>\n",
       "      <td>98491406</td>\n",
       "      <td>ethereum</td>\n",
       "      <td>1522344253</td>\n",
       "      <td>4.087935e+10</td>\n",
       "      <td>NaN</td>\n",
       "      <td>Ethereum</td>\n",
       "      <td>0.10</td>\n",
       "      <td>-7.68</td>\n",
       "      <td>-22.41</td>\n",
       "      <td>0.055434</td>\n",
       "      <td>415.05500</td>\n",
       "      <td>2</td>\n",
       "      <td>98491406</td>\n",
       "      <td>1245.165000</td>\n",
       "      <td>3.045951e-08</td>\n",
       "    </tr>\n",
       "    <tr>\n",
       "      <th>8</th>\n",
       "      <td>MIOTA</td>\n",
       "      <td>777.00000</td>\n",
       "      <td>33912400</td>\n",
       "      <td>2779530283</td>\n",
       "      <td>iota</td>\n",
       "      <td>1522344251</td>\n",
       "      <td>3.128334e+09</td>\n",
       "      <td>2779530283</td>\n",
       "      <td>IOTA</td>\n",
       "      <td>-0.64</td>\n",
       "      <td>-6.17</td>\n",
       "      <td>-14.20</td>\n",
       "      <td>0.000150</td>\n",
       "      <td>1.12549</td>\n",
       "      <td>11</td>\n",
       "      <td>2779530283</td>\n",
       "      <td>874.505730</td>\n",
       "      <td>2.795436e-07</td>\n",
       "    </tr>\n",
       "    <tr>\n",
       "      <th>13</th>\n",
       "      <td>STEEM</td>\n",
       "      <td>499.00000</td>\n",
       "      <td>3353340</td>\n",
       "      <td>255563840</td>\n",
       "      <td>steem</td>\n",
       "      <td>1522344246</td>\n",
       "      <td>4.432346e+08</td>\n",
       "      <td>NaN</td>\n",
       "      <td>Steem</td>\n",
       "      <td>-0.13</td>\n",
       "      <td>-3.88</td>\n",
       "      <td>-16.87</td>\n",
       "      <td>0.000232</td>\n",
       "      <td>1.73434</td>\n",
       "      <td>31</td>\n",
       "      <td>272537934</td>\n",
       "      <td>865.435660</td>\n",
       "      <td>1.952545e-06</td>\n",
       "    </tr>\n",
       "    <tr>\n",
       "      <th>3</th>\n",
       "      <td>PIVX</td>\n",
       "      <td>123.00000</td>\n",
       "      <td>4932590</td>\n",
       "      <td>55853638</td>\n",
       "      <td>pivx</td>\n",
       "      <td>1522344246</td>\n",
       "      <td>2.188848e+08</td>\n",
       "      <td>NaN</td>\n",
       "      <td>PIVX</td>\n",
       "      <td>-2.08</td>\n",
       "      <td>-10.82</td>\n",
       "      <td>1.50</td>\n",
       "      <td>0.000523</td>\n",
       "      <td>3.91890</td>\n",
       "      <td>58</td>\n",
       "      <td>55853638</td>\n",
       "      <td>482.024700</td>\n",
       "      <td>2.202184e-06</td>\n",
       "    </tr>\n",
       "  </tbody>\n",
       "</table>\n",
       "</div>"
      ],
      "text/plain": [
       "   symbol     amount  24h_volume_usd  available_supply        id  \\\n",
       "9     BTC    0.31337      5483020000          16946362   bitcoin   \n",
       "11    ETH    3.00000      1768970000          98491406  ethereum   \n",
       "8   MIOTA  777.00000        33912400        2779530283      iota   \n",
       "13  STEEM  499.00000         3353340         255563840     steem   \n",
       "3    PIVX  123.00000         4932590          55853638      pivx   \n",
       "\n",
       "    last_updated  market_cap_usd  max_supply      name  percent_change_1h  \\\n",
       "9     1522344268    1.275256e+11    21000000   Bitcoin              -0.45   \n",
       "11    1522344253    4.087935e+10         NaN  Ethereum               0.10   \n",
       "8     1522344251    3.128334e+09  2779530283      IOTA              -0.64   \n",
       "13    1522344246    4.432346e+08         NaN     Steem              -0.13   \n",
       "3     1522344246    2.188848e+08         NaN      PIVX              -2.08   \n",
       "\n",
       "    percent_change_24h  percent_change_7d  price_btc   price_usd  rank  \\\n",
       "9                -5.19             -13.26   1.000000  7525.25000     1   \n",
       "11               -7.68             -22.41   0.055434   415.05500     2   \n",
       "8                -6.17             -14.20   0.000150     1.12549    11   \n",
       "13               -3.88             -16.87   0.000232     1.73434    31   \n",
       "3               -10.82               1.50   0.000523     3.91890    58   \n",
       "\n",
       "    total_supply    value_usd     coinshare  \n",
       "9       16946362  2358.187592  1.849187e-08  \n",
       "11      98491406  1245.165000  3.045951e-08  \n",
       "8     2779530283   874.505730  2.795436e-07  \n",
       "13     272537934   865.435660  1.952545e-06  \n",
       "3       55853638   482.024700  2.202184e-06  "
      ]
     },
     "execution_count": 40,
     "metadata": {},
     "output_type": "execute_result"
    }
   ],
   "source": [
    "# merge the API and blockfolio data and sort by investment value\n",
    "merged_data = block_folio.merge(market_data, how='left')\n",
    "merged_data['value_usd'] = merged_data.amount * merged_data.price_usd\n",
    "merged_data['coinshare'] = merged_data.amount / merged_data.available_supply\n",
    "merged_data = merged_data.sort_values('value_usd', ascending=False)\n",
    "merged_data.head()"
   ]
  },
  {
   "cell_type": "markdown",
   "metadata": {},
   "source": [
    "### Your Blockfolio in numbers and graphs!\n"
   ]
  },
  {
   "cell_type": "code",
   "execution_count": 41,
   "metadata": {
    "collapsed": false
   },
   "outputs": [
    {
     "name": "stdout",
     "output_type": "stream",
     "text": [
      "Your blockfolio is currently (i.e 2018-03-30 12:29 AM) worth 6786.07 USD!\n"
     ]
    }
   ],
   "source": [
    "networth = merged_data.value_usd.sum()\n",
    "\n",
    "print('Your blockfolio is currently (i.e {}) worth {:.2f} USD!'.format(now.strftime('%Y-%m-%d %I:%M %p'), networth))"
   ]
  },
  {
   "cell_type": "markdown",
   "metadata": {},
   "source": [
    "#### Net Worth\n",
    "\n",
    "Let's plot the worth of each asset in descending order:"
   ]
  },
  {
   "cell_type": "code",
   "execution_count": 42,
   "metadata": {
    "collapsed": false,
    "scrolled": false
   },
   "outputs": [
    {
     "data": {
      "application/vnd.plotly.v1+json": {
       "data": [
        {
         "marker": {
          "color": "rgb(158,202,225)",
          "line": {
           "color": "rgb(8,48,107)",
           "width": 1.5
          }
         },
         "type": "bar",
         "x": [
          "BTC",
          "ETH",
          "MIOTA",
          "STEEM",
          "PIVX",
          "NEO",
          "XMR",
          "LTC",
          "LSK",
          "ARK",
          "DASH",
          "BCH",
          "OMG",
          "XRP",
          "GAS",
          "XRB"
         ],
         "y": [
          2358.1875925,
          1245.165,
          874.5057300000001,
          865.43566,
          482.0247,
          379.6513,
          185.785,
          183.585,
          102.47543999999999,
          48.411660000000005,
          33.5565,
          10.101115219999999,
          9.924574,
          7.086326,
          0.171042,
          null
         ]
        }
       ],
       "layout": {
        "title": "Blockfolio Networth in USD",
        "xaxis": {
         "title": "Cryptocurrency"
        },
        "yaxis": {
         "title": "USD"
        }
       }
      },
      "text/html": [
       "<div id=\"34860295-2d1c-4010-ad50-345caafec851\" style=\"height: 525px; width: 100%;\" class=\"plotly-graph-div\"></div><script type=\"text/javascript\">require([\"plotly\"], function(Plotly) { window.PLOTLYENV=window.PLOTLYENV || {};window.PLOTLYENV.BASE_URL=\"https://plot.ly\";Plotly.newPlot(\"34860295-2d1c-4010-ad50-345caafec851\", [{\"marker\": {\"color\": \"rgb(158,202,225)\", \"line\": {\"color\": \"rgb(8,48,107)\", \"width\": 1.5}}, \"y\": [2358.1875925, 1245.165, 874.5057300000001, 865.43566, 482.0247, 379.6513, 185.785, 183.585, 102.47543999999999, 48.411660000000005, 33.5565, 10.101115219999999, 9.924574, 7.086326, 0.171042, null], \"type\": \"bar\", \"x\": [\"BTC\", \"ETH\", \"MIOTA\", \"STEEM\", \"PIVX\", \"NEO\", \"XMR\", \"LTC\", \"LSK\", \"ARK\", \"DASH\", \"BCH\", \"OMG\", \"XRP\", \"GAS\", \"XRB\"]}], {\"title\": \"Blockfolio Networth in USD\", \"xaxis\": {\"title\": \"Cryptocurrency\"}, \"yaxis\": {\"title\": \"USD\"}}, {\"linkText\": \"Export to plot.ly\", \"showLink\": true})});</script>"
      ],
      "text/vnd.plotly.v1+html": [
       "<div id=\"34860295-2d1c-4010-ad50-345caafec851\" style=\"height: 525px; width: 100%;\" class=\"plotly-graph-div\"></div><script type=\"text/javascript\">require([\"plotly\"], function(Plotly) { window.PLOTLYENV=window.PLOTLYENV || {};window.PLOTLYENV.BASE_URL=\"https://plot.ly\";Plotly.newPlot(\"34860295-2d1c-4010-ad50-345caafec851\", [{\"marker\": {\"color\": \"rgb(158,202,225)\", \"line\": {\"color\": \"rgb(8,48,107)\", \"width\": 1.5}}, \"y\": [2358.1875925, 1245.165, 874.5057300000001, 865.43566, 482.0247, 379.6513, 185.785, 183.585, 102.47543999999999, 48.411660000000005, 33.5565, 10.101115219999999, 9.924574, 7.086326, 0.171042, null], \"type\": \"bar\", \"x\": [\"BTC\", \"ETH\", \"MIOTA\", \"STEEM\", \"PIVX\", \"NEO\", \"XMR\", \"LTC\", \"LSK\", \"ARK\", \"DASH\", \"BCH\", \"OMG\", \"XRP\", \"GAS\", \"XRB\"]}], {\"title\": \"Blockfolio Networth in USD\", \"xaxis\": {\"title\": \"Cryptocurrency\"}, \"yaxis\": {\"title\": \"USD\"}}, {\"linkText\": \"Export to plot.ly\", \"showLink\": true})});</script>"
      ]
     },
     "metadata": {},
     "output_type": "display_data"
    }
   ],
   "source": [
    "marker = dict(color='rgb(158,202,225)',\n",
    "              line=dict(color='rgb(8,48,107)', width=1.5))\n",
    "\n",
    "layout = go.Layout(title='Blockfolio Networth in USD',\n",
    "                   xaxis=dict(title='Cryptocurrency'),\n",
    "                   yaxis=dict(title='USD'))\n",
    "              \n",
    "value_chart=go.Bar(x=merged_data.symbol, y=merged_data.value_usd, marker=marker)\n",
    "\n",
    "fig = go.Figure(data=[value_chart], layout=layout)\n",
    "py.iplot(fig)"
   ]
  },
  {
   "cell_type": "markdown",
   "metadata": {},
   "source": [
    "#### Fraction of total Supply\n",
    "Finally, that looks at the relative sizes of your investment. \n",
    "This gives you an idea or visualizes in which cryptocurrency you believe in the most. \n",
    "The graph below shows you fractional share of the the current crypto's total supply."
   ]
  },
  {
   "cell_type": "code",
   "execution_count": 43,
   "metadata": {
    "collapsed": false
   },
   "outputs": [
    {
     "data": {
      "application/vnd.plotly.v1+json": {
       "data": [
        {
         "marker": {
          "color": "rgb(258,202,125)",
          "line": {
           "color": "rgb(8,48,107)",
           "width": 1.5
          }
         },
         "type": "bar",
         "x": [
          "BTC",
          "ETH",
          "MIOTA",
          "STEEM",
          "PIVX",
          "NEO",
          "XMR",
          "LTC",
          "LSK",
          "ARK",
          "DASH",
          "BCH",
          "OMG",
          "XRP",
          "GAS",
          "XRB"
         ],
         "y": [
          1.8491874539207884e-08,
          3.0459510345501615e-08,
          2.795436353948873e-07,
          1.952545399223928e-06,
          2.202184215824939e-06,
          1.0769230769230769e-07,
          6.298372286456522e-08,
          2.686003744826421e-08,
          1.161728099203525e-07,
          2.166352899990279e-07,
          1.254016615218545e-08,
          7.844224151667986e-10,
          1.0779816639630887e-08,
          3.3252991293506217e-10,
          1.0011294742728746e-09,
          null
         ]
        }
       ],
       "layout": {
        "title": "Relative Blockfolio Size",
        "xaxis": {
         "title": "Cryptocurrency"
        },
        "yaxis": {
         "title": "Fraction of total Supply"
        }
       }
      },
      "text/html": [
       "<div id=\"f5cc3f40-c370-433e-9784-8c9f1b0716db\" style=\"height: 525px; width: 100%;\" class=\"plotly-graph-div\"></div><script type=\"text/javascript\">require([\"plotly\"], function(Plotly) { window.PLOTLYENV=window.PLOTLYENV || {};window.PLOTLYENV.BASE_URL=\"https://plot.ly\";Plotly.newPlot(\"f5cc3f40-c370-433e-9784-8c9f1b0716db\", [{\"marker\": {\"color\": \"rgb(258,202,125)\", \"line\": {\"color\": \"rgb(8,48,107)\", \"width\": 1.5}}, \"y\": [1.8491874539207884e-08, 3.0459510345501615e-08, 2.795436353948873e-07, 1.952545399223928e-06, 2.202184215824939e-06, 1.0769230769230769e-07, 6.298372286456522e-08, 2.686003744826421e-08, 1.161728099203525e-07, 2.166352899990279e-07, 1.254016615218545e-08, 7.844224151667986e-10, 1.0779816639630887e-08, 3.3252991293506217e-10, 1.0011294742728746e-09, null], \"type\": \"bar\", \"x\": [\"BTC\", \"ETH\", \"MIOTA\", \"STEEM\", \"PIVX\", \"NEO\", \"XMR\", \"LTC\", \"LSK\", \"ARK\", \"DASH\", \"BCH\", \"OMG\", \"XRP\", \"GAS\", \"XRB\"]}], {\"title\": \"Relative Blockfolio Size\", \"xaxis\": {\"title\": \"Cryptocurrency\"}, \"yaxis\": {\"title\": \"Fraction of total Supply\"}}, {\"linkText\": \"Export to plot.ly\", \"showLink\": true})});</script>"
      ],
      "text/vnd.plotly.v1+html": [
       "<div id=\"f5cc3f40-c370-433e-9784-8c9f1b0716db\" style=\"height: 525px; width: 100%;\" class=\"plotly-graph-div\"></div><script type=\"text/javascript\">require([\"plotly\"], function(Plotly) { window.PLOTLYENV=window.PLOTLYENV || {};window.PLOTLYENV.BASE_URL=\"https://plot.ly\";Plotly.newPlot(\"f5cc3f40-c370-433e-9784-8c9f1b0716db\", [{\"marker\": {\"color\": \"rgb(258,202,125)\", \"line\": {\"color\": \"rgb(8,48,107)\", \"width\": 1.5}}, \"y\": [1.8491874539207884e-08, 3.0459510345501615e-08, 2.795436353948873e-07, 1.952545399223928e-06, 2.202184215824939e-06, 1.0769230769230769e-07, 6.298372286456522e-08, 2.686003744826421e-08, 1.161728099203525e-07, 2.166352899990279e-07, 1.254016615218545e-08, 7.844224151667986e-10, 1.0779816639630887e-08, 3.3252991293506217e-10, 1.0011294742728746e-09, null], \"type\": \"bar\", \"x\": [\"BTC\", \"ETH\", \"MIOTA\", \"STEEM\", \"PIVX\", \"NEO\", \"XMR\", \"LTC\", \"LSK\", \"ARK\", \"DASH\", \"BCH\", \"OMG\", \"XRP\", \"GAS\", \"XRB\"]}], {\"title\": \"Relative Blockfolio Size\", \"xaxis\": {\"title\": \"Cryptocurrency\"}, \"yaxis\": {\"title\": \"Fraction of total Supply\"}}, {\"linkText\": \"Export to plot.ly\", \"showLink\": true})});</script>"
      ]
     },
     "metadata": {},
     "output_type": "display_data"
    }
   ],
   "source": [
    "marker = dict(color='rgb(258,202,125)', line=dict(color='rgb(8,48,107)', width=1.5,))\n",
    "\n",
    "layout = go.Layout(title='Relative Blockfolio Size',\n",
    "                   xaxis=dict(title='Cryptocurrency'),\n",
    "                   yaxis=dict(title='Fraction of total Supply'))\n",
    "\n",
    "share_chart=go.Bar(x=merged_data.symbol, y=merged_data.coinshare, marker=marker)\n",
    "\n",
    "fig = go.Figure(data=[share_chart], layout=layout)\n",
    "py.iplot(fig)"
   ]
  },
  {
   "cell_type": "markdown",
   "metadata": {
    "collapsed": true
   },
   "source": [
    "## Your fiat investments\n",
    "\n",
    "To keep track of how much fiat money (here in USD) was invested."
   ]
  },
  {
   "cell_type": "code",
   "execution_count": 44,
   "metadata": {
    "collapsed": false
   },
   "outputs": [
    {
     "name": "stdout",
     "output_type": "stream",
     "text": [
      "By 2018-03-30 12:29 AM you invested 1600.90 USD!\n"
     ]
    }
   ],
   "source": [
    "fiat_USD = {\n",
    "    '2013-12-01': 100.5,\n",
    "    '2017-10-15': 1000.10,\n",
    "    '2018-01-31': 500.30,\n",
    "}\n",
    "\n",
    "investment = sum(fiat_USD.values())\n",
    "\n",
    "print('By {} you invested {:.2f} USD!'.format(now.strftime('%Y-%m-%d %I:%M %p'), investment))"
   ]
  },
  {
   "cell_type": "markdown",
   "metadata": {},
   "source": [
    "## Your current gains/losses\n",
    "\n",
    "How much did your blockfolio increase or decrease in value?"
   ]
  },
  {
   "cell_type": "code",
   "execution_count": 45,
   "metadata": {
    "collapsed": false
   },
   "outputs": [
    {
     "name": "stdout",
     "output_type": "stream",
     "text": [
      "At 2018-03-30 12:29 AM your crypto investment nets USD 5185.16663972\n"
     ]
    }
   ],
   "source": [
    "capital_gains = networth - investment\n",
    "\n",
    "print('At {} your crypto investment nets USD {}'.format(now.strftime('%Y-%m-%d %I:%M %p'), capital_gains))"
   ]
  }
 ],
 "metadata": {
  "anaconda-cloud": {},
  "kernelspec": {
   "display_name": "Python 2",
   "language": "python",
   "name": "python2"
  },
  "language_info": {
   "codemirror_mode": {
    "name": "ipython",
    "version": 2
   },
   "file_extension": ".py",
   "mimetype": "text/x-python",
   "name": "python",
   "nbconvert_exporter": "python",
   "pygments_lexer": "ipython2",
   "version": "2.7.13"
  }
 },
 "nbformat": 4,
 "nbformat_minor": 2
}
